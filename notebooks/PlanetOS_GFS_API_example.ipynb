{
 "cells": [
  {
   "cell_type": "markdown",
   "metadata": {},
   "source": [
    "<H1> Using PlanetOS API to produce weather forecast graphs </H1>\n",
    "\n",
    "Introduction to practical use of PlanetOS API data format.\n",
    "For information about Jupyter notebook, please see https://jupyter.readthedocs.org/en/latest/index.html\n",
    "\n",
    "Note: use python3 or change urllib commands, for python2.\n",
    "\n",
    "<H2> GFS global weather forecast model </H2>\n",
    "GFS is a well known and widely used weather forecast model, developed and used operationally by NCEP (http://www.emc.ncep.noaa.gov/). This model outputs 15 day global weather forecast on 12 degree grid.\n"
   ]
  },
  {
   "cell_type": "code",
   "execution_count": 1,
   "metadata": {
    "collapsed": false
   },
   "outputs": [],
   "source": [
    "%matplotlib inline\n",
    "import numpy as np\n",
    "import matplotlib.pyplot as plt\n",
    "import dateutil.parser\n",
    "import datetime\n",
    "from urllib.request import urlopen, Request\n",
    "import simplejson as json"
   ]
  },
  {
   "cell_type": "markdown",
   "metadata": {},
   "source": [
    "Initialize point coordinates _longitude_, _latitude_ and make short query (count=10), to save time. Please remember to include correct API key!"
   ]
  },
  {
   "cell_type": "code",
   "execution_count": 2,
   "metadata": {
    "collapsed": false
   },
   "outputs": [],
   "source": [
    "longitude = 24.+36./60\n",
    "latitude = 59+24./60\n",
    "apikey = 'd7d0466b16e24b7084d0c97ea8343762'"
   ]
  },
  {
   "cell_type": "code",
   "execution_count": 3,
   "metadata": {
    "collapsed": false
   },
   "outputs": [
    {
     "name": "stdout",
     "output_type": "stream",
     "text": [
      "http://api.planetos.com/v1/datasets/noaa_gfs_global_sflux_0.12d/point?lon=24.6&lat=59.4&count=10&verbose=true&apikey=d7d0466b16e24b7084d0c97ea8343762\n"
     ]
    }
   ],
   "source": [
    "#API_url = \"http://data.planetos.com/api/data/dataset_physical_values/noaa_gfs_global_sflux_0.12d?lon={0}&lat={1}&count=10&verbose=true\".format(longitude,latitude)\n",
    "API_url = \"http://api.planetos.com/v1/datasets/noaa_gfs_global_sflux_0.12d/point?lon={0}&lat={1}&count=10&verbose=true&apikey={2}\".format(longitude,latitude,apikey)\n",
    "print(API_url)\n",
    "request = Request(API_url)\n",
    "response = urlopen(request)\n",
    "API_data = json.loads(response.read())"
   ]
  },
  {
   "cell_type": "markdown",
   "metadata": {},
   "source": [
    "Investigate, what we received. \n",
    "\n",
    "\n",
    "\n",
    "API response is divided into _entries_, _stats_ and _metadata_, where _stats_ gives info about available data extent, _metadata_ for gives full information about variables, and _entries_ has actual data. \n",
    "Data in the _entries_ section is divided into different messages, where each has desctiption for _axes_, which describes time and location of data, _context_, which describes the coordinate types, and _data_, which gives the actual variables with corresponding values. \n",
    "\n",
    "To efficiently use the data, we loop through messages and collect data to separate variables.\n",
    "\n",
    "But first, let's try filtering data by variable type (precipitation, temperature, etc, ...). For this, list all related variables and their context. Note that not all variables are available for all timesteps!"
   ]
  },
  {
   "cell_type": "code",
   "execution_count": 4,
   "metadata": {
    "collapsed": false,
    "scrolled": true
   },
   "outputs": [
    {
     "name": "stdout",
     "output_type": "stream",
     "text": [
      "Variable                                           Context\n",
      "\n",
      "u-component_of_wind_height_above_ground            reftime_time_height_above_ground1_lat_lon\n",
      "v-component_of_wind_hybrid                         reftime_time_hybrid_lat_lon\n",
      "v-component_of_wind_height_above_ground            reftime_time_height_above_ground1_lat_lon\n",
      "u-component_of_wind_hybrid                         reftime_time_hybrid_lat_lon\n"
     ]
    }
   ],
   "source": [
    "print(\"{0:<50} {1}\".format(\"Variable\",\"Context\"))\n",
    "print()\n",
    "for k,v in set([(j,i['context']) for i in API_data['entries'] for j in i['data'].keys() if 'wind' in j.lower()]):\n",
    "    print(\"{0:<50} {1}\".format(k,v))"
   ]
  },
  {
   "cell_type": "markdown",
   "metadata": {},
   "source": [
    "Select data for time and data axes. As we do not necessariy now beforehand, what data is available at what timestep, make separate time variable for each data variable. For easier plotting/analysis, convert time string to datetime."
   ]
  },
  {
   "cell_type": "code",
   "execution_count": 5,
   "metadata": {
    "collapsed": false
   },
   "outputs": [],
   "source": [
    "time_axes = []\n",
    "time_axes_precipitation = []\n",
    "time_axes_wind = []\n",
    "surface_temperature = []\n",
    "air2m_temperature = []\n",
    "precipitation_rate = []\n",
    "wind_speed = []\n",
    "for i in API_data['entries']:\n",
    "    #print(i['axes']['time'])\n",
    "    if i['context'] == 'reftime_time_lat_lon':\n",
    "        surface_temperature.append(i['data']['Temperature_surface'])\n",
    "        time_axes.append(dateutil.parser.parse(i['axes']['time']))\n",
    "    if i['context'] == 'reftime_time1_lat_lon':\n",
    "        if 'Precipitation_rate_surface_3_Hour_Average' in i['data']:\n",
    "            precipitation_rate.append(i['data']['Precipitation_rate_surface_3_Hour_Average']*3*3600)\n",
    "            time_axes_precipitation.append(dateutil.parser.parse(i['axes']['time']))\n",
    "    if i['context'] == 'reftime_time_height_above_ground_lat_lon':\n",
    "        air2m_temperature.append(i['data']['Temperature_height_above_ground'])\n",
    "    if i['context'] == 'reftime_time_height_above_ground1_lat_lon':\n",
    "        wind_speed.append(np.sqrt(i['data']['u-component_of_wind_height_above_ground']**2+i['data']['v-component_of_wind_height_above_ground']**2))\n",
    "        time_axes_wind.append(dateutil.parser.parse(i['axes']['time']))"
   ]
  },
  {
   "cell_type": "code",
   "execution_count": 6,
   "metadata": {
    "collapsed": false
   },
   "outputs": [
    {
     "data": {
      "image/png": "[encoded data removed]",
      "text/plain": [
       "<matplotlib.figure.Figure at 0x1091e1390>"
      ]
     },
     "metadata": {},
     "output_type": "display_data"
    }
   ],
   "source": [
    "time_axes_precipitation = np.array(time_axes_precipitation)\n",
    "fig = plt.figure()\n",
    "ax = fig.add_subplot(111)\n",
    "ax.plot(time_axes,surface_temperature,color='k',label='Surface temperature')\n",
    "ax.plot(time_axes,air2m_temperature,color='r',label='2m temperature')\n",
    "ax_r = ax.twinx()\n",
    "ax_r.bar(time_axes_precipitation-datetime.timedelta(seconds=1800),precipitation_rate,width=0.1,alpha=0.4)\n",
    "fig.autofmt_xdate()\n",
    "plt.show()"
   ]
  },
  {
   "cell_type": "markdown",
   "metadata": {},
   "source": [
    "We could improve this plot by extending the time axes. We can do this by increasing _count_ in API call, we may also note that only three contexts are needed for the data we use, and by skipping others we may save some time.\n",
    "\n",
    "We must be careful with reference times, because in some cases two reference times may be available!"
   ]
  },
  {
   "cell_type": "code",
   "execution_count": 7,
   "metadata": {
    "collapsed": false
   },
   "outputs": [],
   "source": [
    "API_url = \"http://api.planetos.com/v1/datasets/noaa_gfs_global_sflux_0.12d/point?lon={0}&lat={1}&count=1000&verbose=true&apikey={2}&contexts=reftime_time_lat_lon,reftime_time1_lat_lon,reftime_time_height_above_ground_lat_lon\".format(longitude,latitude,apikey)\n",
    "request2 = Request(API_url)\n",
    "response2 = urlopen(request2)\n",
    "API_data2 = json.loads(response2.read())"
   ]
  },
  {
   "cell_type": "markdown",
   "metadata": {},
   "source": [
    "Find available reference times"
   ]
  },
  {
   "cell_type": "code",
   "execution_count": 8,
   "metadata": {
    "collapsed": false
   },
   "outputs": [],
   "source": [
    "reftimes = set()\n",
    "for i in API_data2['entries']:\n",
    "    reftimes.update([i['axes']['reftime']])\n",
    "reftimes=list(reftimes)"
   ]
  },
  {
   "cell_type": "code",
   "execution_count": 9,
   "metadata": {
    "collapsed": false
   },
   "outputs": [
    {
     "data": {
      "text/plain": [
       "['2016-04-11T00:00:00', '2016-04-11T06:00:00']"
      ]
     },
     "execution_count": 9,
     "metadata": {},
     "output_type": "execute_result"
    }
   ],
   "source": [
    "reftimes"
   ]
  },
  {
   "cell_type": "markdown",
   "metadata": {},
   "source": [
    "Use only smaller reftime in example, but newer reftime may give more recent forecast!"
   ]
  },
  {
   "cell_type": "code",
   "execution_count": 10,
   "metadata": {
    "collapsed": false
   },
   "outputs": [],
   "source": [
    "if len(reftimes)>1:\n",
    "    reftime = reftimes[1] if dateutil.parser.parse(reftimes[0])<dateutil.parser.parse(reftimes[1]) else reftimes[1]\n",
    "else:\n",
    "    reftime = reftimes[0]"
   ]
  },
  {
   "cell_type": "markdown",
   "metadata": {},
   "source": [
    "Create new plot with longer time scale and one more variable"
   ]
  },
  {
   "cell_type": "code",
   "execution_count": 11,
   "metadata": {
    "collapsed": false
   },
   "outputs": [],
   "source": [
    "time_2mt = []\n",
    "time_surft = []\n",
    "time_precipitation = []\n",
    "time_surfrad = []\n",
    "surface_temperature = []\n",
    "air2m_temperature = []\n",
    "precipitation_rate = []\n",
    "surfrad = []\n",
    "for i in API_data2['entries']:\n",
    "    #print(i['context'])\n",
    "    if i['context'] == 'reftime_time_lat_lon' and i['axes']['reftime']==reftime:\n",
    "        surface_temperature.append(i['data']['Temperature_surface']-273.15)\n",
    "        time_surft.append(dateutil.parser.parse(i['axes']['time']))\n",
    "    if i['context'] == 'reftime_time1_lat_lon' and i['axes']['reftime']==reftime:\n",
    "        if 'Precipitation_rate_surface_3_Hour_Average' in i['data']:\n",
    "            precipitation_rate.append(i['data']['Precipitation_rate_surface_3_Hour_Average']*3*3600)\n",
    "            time_precipitation.append(dateutil.parser.parse(i['axes']['time']))\n",
    "        if 'Downward_Short-Wave_Radiation_Flux_surface_3_Hour_Average' in i['data']:\n",
    "            surfrad.append(i['data']['Downward_Short-Wave_Radiation_Flux_surface_3_Hour_Average'])\n",
    "            time_surfrad.append(dateutil.parser.parse(i['axes']['time']))\n",
    "    if i['context'] == 'reftime_time_height_above_ground_lat_lon' and i['axes']['reftime']==reftime:\n",
    "        if 'Temperature_height_above_ground' in i['data']:\n",
    "            air2m_temperature.append(i['data']['Temperature_height_above_ground']-273.15)\n",
    "            time_2mt.append(dateutil.parser.parse(i['axes']['time']))"
   ]
  },
  {
   "cell_type": "code",
   "execution_count": 12,
   "metadata": {
    "collapsed": false
   },
   "outputs": [
    {
     "data": {
      "image/png": "[encoded data removed]",
      "text/plain": [
       "<matplotlib.figure.Figure at 0x10d19f0b8>"
      ]
     },
     "metadata": {},
     "output_type": "display_data"
    }
   ],
   "source": [
    "time_precipitation = np.array(time_precipitation)\n",
    "surfrad=np.array(surfrad)\n",
    "fig = plt.figure()\n",
    "ax = fig.add_subplot(111)\n",
    "plt.plot(time_surft,surface_temperature,color='k',label='Surface temperature')\n",
    "plt.plot(time_2mt,air2m_temperature,color='r',label='2m temperature')\n",
    "lg = plt.legend(framealpha=0.2)\n",
    "ax.set_ylabel('Temperature, Celsius')\n",
    "\n",
    "ax_r = ax.twinx()\n",
    "ax_r.bar(time_precipitation-datetime.timedelta(seconds=1800),precipitation_rate,width=0.1,alpha=0.4,label='precipitation')\n",
    "ax_r.fill_between(time_surfrad,surfrad/np.amax(surfrad)*np.amax(precipitation_rate),color='gray',alpha=0.1,label='surface radiation')\n",
    "ax_r.set_ylabel('Precipitation, mm 3hr')\n",
    "lg.get_frame().set_alpha(0.5)\n",
    "\n",
    "fig.autofmt_xdate()"
   ]
  },
  {
   "cell_type": "code",
   "execution_count": 29,
   "metadata": {
    "collapsed": true
   },
   "outputs": [],
   "source": [
    "plt.show()"
   ]
  },
  {
   "cell_type": "code",
   "execution_count": 13,
   "metadata": {
    "collapsed": false
   },
   "outputs": [
    {
     "data": {
      "text/plain": [
       "array([datetime.datetime(2016, 4, 11, 9, 0),\n",
       "       datetime.datetime(2016, 4, 11, 15, 0),\n",
       "       datetime.datetime(2016, 4, 11, 21, 0),\n",
       "       datetime.datetime(2016, 4, 12, 3, 0),\n",
       "       datetime.datetime(2016, 4, 12, 9, 0),\n",
       "       datetime.datetime(2016, 4, 12, 15, 0),\n",
       "       datetime.datetime(2016, 4, 12, 21, 0),\n",
       "       datetime.datetime(2016, 4, 13, 3, 0),\n",
       "       datetime.datetime(2016, 4, 13, 9, 0),\n",
       "       datetime.datetime(2016, 4, 13, 15, 0),\n",
       "       datetime.datetime(2016, 4, 13, 21, 0),\n",
       "       datetime.datetime(2016, 4, 14, 3, 0),\n",
       "       datetime.datetime(2016, 4, 14, 9, 0),\n",
       "       datetime.datetime(2016, 4, 14, 15, 0),\n",
       "       datetime.datetime(2016, 4, 14, 21, 0),\n",
       "       datetime.datetime(2016, 4, 15, 3, 0),\n",
       "       datetime.datetime(2016, 4, 15, 9, 0),\n",
       "       datetime.datetime(2016, 4, 15, 15, 0),\n",
       "       datetime.datetime(2016, 4, 15, 21, 0),\n",
       "       datetime.datetime(2016, 4, 16, 3, 0),\n",
       "       datetime.datetime(2016, 4, 16, 9, 0),\n",
       "       datetime.datetime(2016, 4, 16, 15, 0),\n",
       "       datetime.datetime(2016, 4, 16, 21, 0),\n",
       "       datetime.datetime(2016, 4, 17, 3, 0),\n",
       "       datetime.datetime(2016, 4, 17, 9, 0),\n",
       "       datetime.datetime(2016, 4, 17, 15, 0),\n",
       "       datetime.datetime(2016, 4, 17, 21, 0),\n",
       "       datetime.datetime(2016, 4, 18, 3, 0),\n",
       "       datetime.datetime(2016, 4, 18, 15, 0),\n",
       "       datetime.datetime(2016, 4, 18, 21, 0),\n",
       "       datetime.datetime(2016, 4, 19, 3, 0),\n",
       "       datetime.datetime(2016, 4, 19, 9, 0),\n",
       "       datetime.datetime(2016, 4, 19, 15, 0),\n",
       "       datetime.datetime(2016, 4, 19, 21, 0),\n",
       "       datetime.datetime(2016, 4, 20, 3, 0),\n",
       "       datetime.datetime(2016, 4, 20, 9, 0),\n",
       "       datetime.datetime(2016, 4, 20, 15, 0),\n",
       "       datetime.datetime(2016, 4, 20, 21, 0),\n",
       "       datetime.datetime(2016, 4, 21, 3, 0)], dtype=object)"
      ]
     },
     "execution_count": 13,
     "metadata": {},
     "output_type": "execute_result"
    }
   ],
   "source": [
    "time_precipitation"
   ]
  }
 ],
 "metadata": {
  "kernelspec": {
   "display_name": "Python 3",
   "language": "python",
   "name": "python3"
  },
  "language_info": {
   "codemirror_mode": {
    "name": "ipython",
    "version": 3
   },
   "file_extension": ".py",
   "mimetype": "text/x-python",
   "name": "python",
   "nbconvert_exporter": "python",
   "pygments_lexer": "ipython3",
   "version": "3.5.1"
  }
 },
 "nbformat": 4,
 "nbformat_minor": 0
}
